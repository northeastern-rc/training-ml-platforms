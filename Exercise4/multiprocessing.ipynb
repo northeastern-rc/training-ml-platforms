{
 "cells": [
  {
   "cell_type": "code",
   "execution_count": 1,
   "metadata": {},
   "outputs": [
    {
     "name": "stdout",
     "output_type": "stream",
     "text": [
      "Defaulting to user installation because normal site-packages is not writeable\n",
      "Requirement already satisfied: swifter in /home/m.joshi/.local/lib/python3.8/site-packages (1.1.3)\n",
      "Requirement already satisfied: ipywidgets>=7.0.0 in /shared/centos7/anaconda3/2021.05/lib/python3.8/site-packages (from swifter) (7.6.3)\n",
      "Requirement already satisfied: bleach>=3.1.1 in /shared/centos7/anaconda3/2021.05/lib/python3.8/site-packages (from swifter) (3.3.0)\n",
      "Requirement already satisfied: psutil>=5.6.6 in /shared/centos7/anaconda3/2021.05/lib/python3.8/site-packages (from swifter) (5.8.0)\n",
      "Requirement already satisfied: cloudpickle>=0.2.2 in /shared/centos7/anaconda3/2021.05/lib/python3.8/site-packages (from swifter) (1.6.0)\n",
      "Requirement already satisfied: tqdm>=4.33.0 in /shared/centos7/anaconda3/2021.05/lib/python3.8/site-packages (from swifter) (4.59.0)\n",
      "Requirement already satisfied: parso>0.4.0 in /shared/centos7/anaconda3/2021.05/lib/python3.8/site-packages (from swifter) (0.7.0)\n",
      "Requirement already satisfied: pandas>=1.0.0 in /shared/centos7/anaconda3/2021.05/lib/python3.8/site-packages (from swifter) (1.2.4)\n",
      "Requirement already satisfied: dask[dataframe]>=2.10.0 in /shared/centos7/anaconda3/2021.05/lib/python3.8/site-packages (from swifter) (2021.4.0)\n",
      "Requirement already satisfied: packaging in /shared/centos7/anaconda3/2021.05/lib/python3.8/site-packages (from bleach>=3.1.1->swifter) (20.9)\n",
      "Requirement already satisfied: webencodings in /shared/centos7/anaconda3/2021.05/lib/python3.8/site-packages (from bleach>=3.1.1->swifter) (0.5.1)\n",
      "Requirement already satisfied: six>=1.9.0 in /shared/centos7/anaconda3/2021.05/lib/python3.8/site-packages (from bleach>=3.1.1->swifter) (1.15.0)\n",
      "Requirement already satisfied: partd>=0.3.10 in /shared/centos7/anaconda3/2021.05/lib/python3.8/site-packages (from dask[dataframe]>=2.10.0->swifter) (1.2.0)\n",
      "Requirement already satisfied: pyyaml in /shared/centos7/anaconda3/2021.05/lib/python3.8/site-packages (from dask[dataframe]>=2.10.0->swifter) (5.4.1)\n",
      "Requirement already satisfied: fsspec>=0.6.0 in /shared/centos7/anaconda3/2021.05/lib/python3.8/site-packages (from dask[dataframe]>=2.10.0->swifter) (0.9.0)\n",
      "Requirement already satisfied: toolz>=0.8.2 in /shared/centos7/anaconda3/2021.05/lib/python3.8/site-packages (from dask[dataframe]>=2.10.0->swifter) (0.11.1)\n",
      "Requirement already satisfied: numpy>=1.16 in /shared/centos7/anaconda3/2021.05/lib/python3.8/site-packages (from dask[dataframe]>=2.10.0->swifter) (1.20.1)\n",
      "Requirement already satisfied: widgetsnbextension~=3.5.0 in /shared/centos7/anaconda3/2021.05/lib/python3.8/site-packages (from ipywidgets>=7.0.0->swifter) (3.5.1)\n",
      "Requirement already satisfied: traitlets>=4.3.1 in /shared/centos7/anaconda3/2021.05/lib/python3.8/site-packages (from ipywidgets>=7.0.0->swifter) (5.0.5)\n",
      "Requirement already satisfied: ipython>=4.0.0 in /shared/centos7/anaconda3/2021.05/lib/python3.8/site-packages (from ipywidgets>=7.0.0->swifter) (7.22.0)\n",
      "Requirement already satisfied: ipykernel>=4.5.1 in /shared/centos7/anaconda3/2021.05/lib/python3.8/site-packages (from ipywidgets>=7.0.0->swifter) (5.3.4)\n",
      "Requirement already satisfied: nbformat>=4.2.0 in /shared/centos7/anaconda3/2021.05/lib/python3.8/site-packages (from ipywidgets>=7.0.0->swifter) (5.1.3)\n",
      "Requirement already satisfied: jupyterlab-widgets>=1.0.0 in /shared/centos7/anaconda3/2021.05/lib/python3.8/site-packages (from ipywidgets>=7.0.0->swifter) (1.0.0)\n",
      "Requirement already satisfied: python-dateutil>=2.7.3 in /shared/centos7/anaconda3/2021.05/lib/python3.8/site-packages (from pandas>=1.0.0->swifter) (2.8.1)\n",
      "Requirement already satisfied: pytz>=2017.3 in /shared/centos7/anaconda3/2021.05/lib/python3.8/site-packages (from pandas>=1.0.0->swifter) (2021.1)\n",
      "Requirement already satisfied: jupyter-client in /shared/centos7/anaconda3/2021.05/lib/python3.8/site-packages (from ipykernel>=4.5.1->ipywidgets>=7.0.0->swifter) (6.1.12)\n",
      "Requirement already satisfied: tornado>=4.2 in /shared/centos7/anaconda3/2021.05/lib/python3.8/site-packages (from ipykernel>=4.5.1->ipywidgets>=7.0.0->swifter) (6.1)\n",
      "Requirement already satisfied: decorator in /shared/centos7/anaconda3/2021.05/lib/python3.8/site-packages (from ipython>=4.0.0->ipywidgets>=7.0.0->swifter) (5.0.6)\n",
      "Requirement already satisfied: prompt-toolkit!=3.0.0,!=3.0.1,<3.1.0,>=2.0.0 in /shared/centos7/anaconda3/2021.05/lib/python3.8/site-packages (from ipython>=4.0.0->ipywidgets>=7.0.0->swifter) (3.0.17)\n",
      "Requirement already satisfied: backcall in /shared/centos7/anaconda3/2021.05/lib/python3.8/site-packages (from ipython>=4.0.0->ipywidgets>=7.0.0->swifter) (0.2.0)\n",
      "Requirement already satisfied: pexpect>4.3 in /shared/centos7/anaconda3/2021.05/lib/python3.8/site-packages (from ipython>=4.0.0->ipywidgets>=7.0.0->swifter) (4.8.0)\n",
      "Requirement already satisfied: jedi>=0.16 in /shared/centos7/anaconda3/2021.05/lib/python3.8/site-packages (from ipython>=4.0.0->ipywidgets>=7.0.0->swifter) (0.17.2)\n",
      "Requirement already satisfied: pickleshare in /shared/centos7/anaconda3/2021.05/lib/python3.8/site-packages (from ipython>=4.0.0->ipywidgets>=7.0.0->swifter) (0.7.5)\n",
      "Requirement already satisfied: setuptools>=18.5 in /shared/centos7/anaconda3/2021.05/lib/python3.8/site-packages (from ipython>=4.0.0->ipywidgets>=7.0.0->swifter) (52.0.0.post20210125)\n",
      "Requirement already satisfied: pygments in /shared/centos7/anaconda3/2021.05/lib/python3.8/site-packages (from ipython>=4.0.0->ipywidgets>=7.0.0->swifter) (2.8.1)\n",
      "Requirement already satisfied: jupyter-core in /shared/centos7/anaconda3/2021.05/lib/python3.8/site-packages (from nbformat>=4.2.0->ipywidgets>=7.0.0->swifter) (4.7.1)\n",
      "Requirement already satisfied: ipython-genutils in /shared/centos7/anaconda3/2021.05/lib/python3.8/site-packages (from nbformat>=4.2.0->ipywidgets>=7.0.0->swifter) (0.2.0)\n",
      "Requirement already satisfied: jsonschema!=2.5.0,>=2.4 in /shared/centos7/anaconda3/2021.05/lib/python3.8/site-packages (from nbformat>=4.2.0->ipywidgets>=7.0.0->swifter) (3.2.0)\n",
      "Requirement already satisfied: locket in /shared/centos7/anaconda3/2021.05/lib/python3.8/site-packages/locket-0.2.1-py3.8.egg (from partd>=0.3.10->dask[dataframe]>=2.10.0->swifter) (0.2.1)\n",
      "Requirement already satisfied: notebook>=4.4.1 in /shared/centos7/anaconda3/2021.05/lib/python3.8/site-packages (from widgetsnbextension~=3.5.0->ipywidgets>=7.0.0->swifter) (6.3.0)\n",
      "Requirement already satisfied: pyparsing>=2.0.2 in /shared/centos7/anaconda3/2021.05/lib/python3.8/site-packages (from packaging->bleach>=3.1.1->swifter) (2.4.7)\n",
      "Requirement already satisfied: attrs>=17.4.0 in /shared/centos7/anaconda3/2021.05/lib/python3.8/site-packages (from jsonschema!=2.5.0,>=2.4->nbformat>=4.2.0->ipywidgets>=7.0.0->swifter) (20.3.0)\n",
      "Requirement already satisfied: pyrsistent>=0.14.0 in /shared/centos7/anaconda3/2021.05/lib/python3.8/site-packages (from jsonschema!=2.5.0,>=2.4->nbformat>=4.2.0->ipywidgets>=7.0.0->swifter) (0.17.3)\n",
      "Requirement already satisfied: Send2Trash>=1.5.0 in /shared/centos7/anaconda3/2021.05/lib/python3.8/site-packages (from notebook>=4.4.1->widgetsnbextension~=3.5.0->ipywidgets>=7.0.0->swifter) (1.5.0)\n",
      "Requirement already satisfied: argon2-cffi in /shared/centos7/anaconda3/2021.05/lib/python3.8/site-packages (from notebook>=4.4.1->widgetsnbextension~=3.5.0->ipywidgets>=7.0.0->swifter) (20.1.0)\n",
      "Requirement already satisfied: pyzmq>=17 in /shared/centos7/anaconda3/2021.05/lib/python3.8/site-packages (from notebook>=4.4.1->widgetsnbextension~=3.5.0->ipywidgets>=7.0.0->swifter) (20.0.0)\n",
      "Requirement already satisfied: jinja2 in /shared/centos7/anaconda3/2021.05/lib/python3.8/site-packages (from notebook>=4.4.1->widgetsnbextension~=3.5.0->ipywidgets>=7.0.0->swifter) (2.11.3)\n",
      "Requirement already satisfied: nbconvert in /shared/centos7/anaconda3/2021.05/lib/python3.8/site-packages (from notebook>=4.4.1->widgetsnbextension~=3.5.0->ipywidgets>=7.0.0->swifter) (6.0.7)\n",
      "Requirement already satisfied: prometheus-client in /shared/centos7/anaconda3/2021.05/lib/python3.8/site-packages (from notebook>=4.4.1->widgetsnbextension~=3.5.0->ipywidgets>=7.0.0->swifter) (0.10.1)\n",
      "Requirement already satisfied: terminado>=0.8.3 in /shared/centos7/anaconda3/2021.05/lib/python3.8/site-packages (from notebook>=4.4.1->widgetsnbextension~=3.5.0->ipywidgets>=7.0.0->swifter) (0.9.4)\n",
      "Requirement already satisfied: ptyprocess>=0.5 in /shared/centos7/anaconda3/2021.05/lib/python3.8/site-packages (from pexpect>4.3->ipython>=4.0.0->ipywidgets>=7.0.0->swifter) (0.7.0)\n",
      "Requirement already satisfied: wcwidth in /shared/centos7/anaconda3/2021.05/lib/python3.8/site-packages (from prompt-toolkit!=3.0.0,!=3.0.1,<3.1.0,>=2.0.0->ipython>=4.0.0->ipywidgets>=7.0.0->swifter) (0.2.5)\n",
      "Requirement already satisfied: cffi>=1.0.0 in /shared/centos7/anaconda3/2021.05/lib/python3.8/site-packages (from argon2-cffi->notebook>=4.4.1->widgetsnbextension~=3.5.0->ipywidgets>=7.0.0->swifter) (1.14.5)\n",
      "Requirement already satisfied: MarkupSafe>=0.23 in /shared/centos7/anaconda3/2021.05/lib/python3.8/site-packages (from jinja2->notebook>=4.4.1->widgetsnbextension~=3.5.0->ipywidgets>=7.0.0->swifter) (1.1.1)\n",
      "Requirement already satisfied: testpath in /shared/centos7/anaconda3/2021.05/lib/python3.8/site-packages (from nbconvert->notebook>=4.4.1->widgetsnbextension~=3.5.0->ipywidgets>=7.0.0->swifter) (0.4.4)\n",
      "Requirement already satisfied: jupyterlab-pygments in /shared/centos7/anaconda3/2021.05/lib/python3.8/site-packages (from nbconvert->notebook>=4.4.1->widgetsnbextension~=3.5.0->ipywidgets>=7.0.0->swifter) (0.1.2)\n",
      "Requirement already satisfied: mistune<2,>=0.8.1 in /shared/centos7/anaconda3/2021.05/lib/python3.8/site-packages (from nbconvert->notebook>=4.4.1->widgetsnbextension~=3.5.0->ipywidgets>=7.0.0->swifter) (0.8.4)\n",
      "Requirement already satisfied: nbclient<0.6.0,>=0.5.0 in /shared/centos7/anaconda3/2021.05/lib/python3.8/site-packages (from nbconvert->notebook>=4.4.1->widgetsnbextension~=3.5.0->ipywidgets>=7.0.0->swifter) (0.5.3)\n",
      "Requirement already satisfied: defusedxml in /shared/centos7/anaconda3/2021.05/lib/python3.8/site-packages (from nbconvert->notebook>=4.4.1->widgetsnbextension~=3.5.0->ipywidgets>=7.0.0->swifter) (0.7.1)\n",
      "Requirement already satisfied: entrypoints>=0.2.2 in /shared/centos7/anaconda3/2021.05/lib/python3.8/site-packages (from nbconvert->notebook>=4.4.1->widgetsnbextension~=3.5.0->ipywidgets>=7.0.0->swifter) (0.3)\n",
      "Requirement already satisfied: pandocfilters>=1.4.1 in /shared/centos7/anaconda3/2021.05/lib/python3.8/site-packages (from nbconvert->notebook>=4.4.1->widgetsnbextension~=3.5.0->ipywidgets>=7.0.0->swifter) (1.4.3)\n",
      "Requirement already satisfied: pycparser in /shared/centos7/anaconda3/2021.05/lib/python3.8/site-packages (from cffi>=1.0.0->argon2-cffi->notebook>=4.4.1->widgetsnbextension~=3.5.0->ipywidgets>=7.0.0->swifter) (2.20)\n",
      "Requirement already satisfied: async-generator in /shared/centos7/anaconda3/2021.05/lib/python3.8/site-packages (from nbclient<0.6.0,>=0.5.0->nbconvert->notebook>=4.4.1->widgetsnbextension~=3.5.0->ipywidgets>=7.0.0->swifter) (1.10)\n",
      "Requirement already satisfied: nest-asyncio in /shared/centos7/anaconda3/2021.05/lib/python3.8/site-packages (from nbclient<0.6.0,>=0.5.0->nbconvert->notebook>=4.4.1->widgetsnbextension~=3.5.0->ipywidgets>=7.0.0->swifter) (1.5.1)\n",
      "\u001b[33mWARNING: You are using pip version 22.0.4; however, version 22.1.2 is available.\n",
      "You should consider upgrading via the '/shared/centos7/anaconda3/2021.05/bin/python -m pip install --upgrade pip' command.\u001b[0m\u001b[33m\n",
      "\u001b[0m"
     ]
    }
   ],
   "source": [
    "!pip install swifter"
   ]
  },
  {
   "cell_type": "code",
   "execution_count": 2,
   "metadata": {},
   "outputs": [],
   "source": [
    "import numpy as np\n",
    "import pandas as pd\n",
    "import time\n",
    "import swifter\n",
    "import multiprocessing as mp\n",
    "import os"
   ]
  },
  {
   "cell_type": "code",
   "execution_count": 3,
   "metadata": {},
   "outputs": [
    {
     "data": {
      "text/plain": [
       "(10000, 4)"
      ]
     },
     "execution_count": 3,
     "metadata": {},
     "output_type": "execute_result"
    }
   ],
   "source": [
    "input_file = 'sample_data.pkl'\n",
    "df = pd.read_pickle(input_file)\n",
    "df.shape"
   ]
  },
  {
   "cell_type": "code",
   "execution_count": 4,
   "metadata": {},
   "outputs": [
    {
     "data": {
      "text/html": [
       "<div>\n",
       "<style scoped>\n",
       "    .dataframe tbody tr th:only-of-type {\n",
       "        vertical-align: middle;\n",
       "    }\n",
       "\n",
       "    .dataframe tbody tr th {\n",
       "        vertical-align: top;\n",
       "    }\n",
       "\n",
       "    .dataframe thead th {\n",
       "        text-align: right;\n",
       "    }\n",
       "</style>\n",
       "<table border=\"1\" class=\"dataframe\">\n",
       "  <thead>\n",
       "    <tr style=\"text-align: right;\">\n",
       "      <th></th>\n",
       "      <th>Submit</th>\n",
       "      <th>Start</th>\n",
       "      <th>End</th>\n",
       "      <th>CPUs</th>\n",
       "    </tr>\n",
       "  </thead>\n",
       "  <tbody>\n",
       "    <tr>\n",
       "      <th>0</th>\n",
       "      <td>2020-10-16 03:58:19</td>\n",
       "      <td>2020-10-16 03:58:20</td>\n",
       "      <td>2020-10-16 03:58:22</td>\n",
       "      <td>28</td>\n",
       "    </tr>\n",
       "    <tr>\n",
       "      <th>1</th>\n",
       "      <td>2020-06-08 20:42:58</td>\n",
       "      <td>2020-06-09 14:50:51</td>\n",
       "      <td>2020-06-09 14:50:51</td>\n",
       "      <td>20</td>\n",
       "    </tr>\n",
       "    <tr>\n",
       "      <th>2</th>\n",
       "      <td>2020-03-19 17:14:21</td>\n",
       "      <td>2020-03-19 17:14:32</td>\n",
       "      <td>2020-03-19 17:15:05</td>\n",
       "      <td>1</td>\n",
       "    </tr>\n",
       "    <tr>\n",
       "      <th>3</th>\n",
       "      <td>2020-07-23 14:31:16</td>\n",
       "      <td>2020-07-24 02:01:33</td>\n",
       "      <td>2020-07-24 06:03:26</td>\n",
       "      <td>1</td>\n",
       "    </tr>\n",
       "    <tr>\n",
       "      <th>4</th>\n",
       "      <td>2020-02-08 00:50:17</td>\n",
       "      <td>2020-02-08 00:50:52</td>\n",
       "      <td>2020-02-08 00:51:33</td>\n",
       "      <td>24</td>\n",
       "    </tr>\n",
       "  </tbody>\n",
       "</table>\n",
       "</div>"
      ],
      "text/plain": [
       "               Submit               Start                 End  CPUs\n",
       "0 2020-10-16 03:58:19 2020-10-16 03:58:20 2020-10-16 03:58:22    28\n",
       "1 2020-06-08 20:42:58 2020-06-09 14:50:51 2020-06-09 14:50:51    20\n",
       "2 2020-03-19 17:14:21 2020-03-19 17:14:32 2020-03-19 17:15:05     1\n",
       "3 2020-07-23 14:31:16 2020-07-24 02:01:33 2020-07-24 06:03:26     1\n",
       "4 2020-02-08 00:50:17 2020-02-08 00:50:52 2020-02-08 00:51:33    24"
      ]
     },
     "execution_count": 4,
     "metadata": {},
     "output_type": "execute_result"
    }
   ],
   "source": [
    "df.head()"
   ]
  },
  {
   "cell_type": "code",
   "execution_count": 5,
   "metadata": {},
   "outputs": [],
   "source": [
    "submit = df.Submit.to_numpy()\n",
    "start = df.Start.to_numpy()\n",
    "end = df.End.to_numpy()\n",
    "cpus = df.CPUs.to_numpy()"
   ]
  },
  {
   "cell_type": "code",
   "execution_count": 6,
   "metadata": {},
   "outputs": [],
   "source": [
    "### Pandas apply ###\n",
    "def calculate_cpus_utilized(rowsubmit, start, end, cpus):\n",
    "    indexes = np.where((rowsubmit > start) & (rowsubmit < end))[0]\n",
    "    cpus_sum = cpus[indexes].sum()\n",
    "    return cpus_sum\n",
    "\n",
    "start_time = time.time()\n",
    "df['cpus_utilized_pandas'] = df[['Submit']].apply(lambda row: calculate_cpus_utilized(row['Submit'], start, end, cpus), axis=1)\n",
    "elapsed_pandas = time.time() - start_time"
   ]
  },
  {
   "cell_type": "code",
   "execution_count": 7,
   "metadata": {},
   "outputs": [
    {
     "data": {
      "application/vnd.jupyter.widget-view+json": {
       "model_id": "fa410908e2454af08b9574f6e15c5928",
       "version_major": 2,
       "version_minor": 0
      },
      "text/plain": [
       "Pandas Apply:   0%|          | 0/10000 [00:00<?, ?it/s]"
      ]
     },
     "metadata": {},
     "output_type": "display_data"
    }
   ],
   "source": [
    "## Swifter ## \n",
    "def calculate_cpus_utilized(rowsubmit, start, end, cpus):\n",
    "    indexes = np.where((rowsubmit > start) & (rowsubmit < end))[0]\n",
    "    cpus_sum = cpus[indexes].sum()\n",
    "    return cpus_sum\n",
    "\n",
    "start_time = time.time()\n",
    "df['cpus_utilized_swifter'] = df[['Submit']].swifter.apply(lambda row: calculate_cpus_utilized(row['Submit'], start, end, cpus), axis=1)\n",
    "elapsed_swifter = time.time() - start_time"
   ]
  },
  {
   "cell_type": "code",
   "execution_count": 8,
   "metadata": {},
   "outputs": [],
   "source": [
    "## NumPy ##\n",
    "start_time = time.time()\n",
    "cpu_ct_np = [np.sum(np.where(((sub>start) & (sub < end)),cpus,0)) for sub in submit]\n",
    "elapsed_numpy = (time.time() - start_time)\n",
    "df['cpus_utilized_numpy'] = cpu_ct_np"
   ]
  },
  {
   "cell_type": "markdown",
   "metadata": {},
   "source": [
    "### Process-based Parallelism"
   ]
  },
  {
   "cell_type": "code",
   "execution_count": 9,
   "metadata": {},
   "outputs": [
    {
     "name": "stdout",
     "output_type": "stream",
     "text": [
      "Number of CPUs in the node using multiprocessing library  :  56\n",
      "Number of CPUs in the node using OS library :  56\n",
      "Actual number of Usable CPUs for multiprocessing:  54\n"
     ]
    }
   ],
   "source": [
    "print(\"Number of CPUs in the node using multiprocessing library  : \",mp.cpu_count())\n",
    "print(\"Number of CPUs in the node using OS library : \",os.cpu_count())\n",
    "print(\"Actual number of Usable CPUs for multiprocessing: \",len(os.sched_getaffinity(0)))"
   ]
  },
  {
   "cell_type": "code",
   "execution_count": 10,
   "metadata": {},
   "outputs": [],
   "source": [
    "## Number of process = len(os.sched_getaffinity(0)) ##\n",
    "def countCPUS(sub):\n",
    "    return np.sum(np.where(((sub>start) & (sub < end)),cpus,0))\n",
    "\n",
    "start_time = time.time()\n",
    "cpu_ct_mt_proc_cpu=[]\n",
    "with mp.Pool(len(os.sched_getaffinity(0))) as process:\n",
    "    cpu_ct_mt_proc_cpu = process.map(countCPUS, submit)\n",
    "elapsed_mt_proc_cpu_task=(time.time() - start_time)\n",
    "df['cpus_utilized_multiproc'] = cpu_ct_mt_proc_cpu"
   ]
  },
  {
   "cell_type": "code",
   "execution_count": 11,
   "metadata": {},
   "outputs": [
    {
     "name": "stdout",
     "output_type": "stream",
     "text": [
      "Panda apply                     :  0.5343074798583984\n",
      "Panda swifter apply             :  0.595224142074585\n",
      "Pure Numpy                      :  0.4678652286529541\n",
      "Multiprocess                    :  0.3449411392211914\n"
     ]
    }
   ],
   "source": [
    "### Performance analysis ###\n",
    "print(\"Panda apply                     : \",elapsed_pandas)\n",
    "print(\"Panda swifter apply             : \",elapsed_swifter)\n",
    "print(\"Pure Numpy                      : \",elapsed_numpy)\n",
    "print(\"Multiprocess                    : \",elapsed_mt_proc_cpu_task)"
   ]
  },
  {
   "cell_type": "code",
   "execution_count": 12,
   "metadata": {},
   "outputs": [
    {
     "data": {
      "text/html": [
       "<div>\n",
       "<style scoped>\n",
       "    .dataframe tbody tr th:only-of-type {\n",
       "        vertical-align: middle;\n",
       "    }\n",
       "\n",
       "    .dataframe tbody tr th {\n",
       "        vertical-align: top;\n",
       "    }\n",
       "\n",
       "    .dataframe thead th {\n",
       "        text-align: right;\n",
       "    }\n",
       "</style>\n",
       "<table border=\"1\" class=\"dataframe\">\n",
       "  <thead>\n",
       "    <tr style=\"text-align: right;\">\n",
       "      <th></th>\n",
       "      <th>Submit</th>\n",
       "      <th>Start</th>\n",
       "      <th>End</th>\n",
       "      <th>CPUs</th>\n",
       "      <th>cpus_utilized_pandas</th>\n",
       "      <th>cpus_utilized_swifter</th>\n",
       "      <th>cpus_utilized_numpy</th>\n",
       "      <th>cpus_utilized_multiproc</th>\n",
       "    </tr>\n",
       "  </thead>\n",
       "  <tbody>\n",
       "    <tr>\n",
       "      <th>0</th>\n",
       "      <td>2020-10-16 03:58:19</td>\n",
       "      <td>2020-10-16 03:58:20</td>\n",
       "      <td>2020-10-16 03:58:22</td>\n",
       "      <td>28</td>\n",
       "      <td>2</td>\n",
       "      <td>2</td>\n",
       "      <td>2</td>\n",
       "      <td>2</td>\n",
       "    </tr>\n",
       "    <tr>\n",
       "      <th>1</th>\n",
       "      <td>2020-06-08 20:42:58</td>\n",
       "      <td>2020-06-09 14:50:51</td>\n",
       "      <td>2020-06-09 14:50:51</td>\n",
       "      <td>20</td>\n",
       "      <td>90</td>\n",
       "      <td>90</td>\n",
       "      <td>90</td>\n",
       "      <td>90</td>\n",
       "    </tr>\n",
       "    <tr>\n",
       "      <th>2</th>\n",
       "      <td>2020-03-19 17:14:21</td>\n",
       "      <td>2020-03-19 17:14:32</td>\n",
       "      <td>2020-03-19 17:15:05</td>\n",
       "      <td>1</td>\n",
       "      <td>43</td>\n",
       "      <td>43</td>\n",
       "      <td>43</td>\n",
       "      <td>43</td>\n",
       "    </tr>\n",
       "    <tr>\n",
       "      <th>3</th>\n",
       "      <td>2020-07-23 14:31:16</td>\n",
       "      <td>2020-07-24 02:01:33</td>\n",
       "      <td>2020-07-24 06:03:26</td>\n",
       "      <td>1</td>\n",
       "      <td>0</td>\n",
       "      <td>0</td>\n",
       "      <td>0</td>\n",
       "      <td>0</td>\n",
       "    </tr>\n",
       "    <tr>\n",
       "      <th>4</th>\n",
       "      <td>2020-02-08 00:50:17</td>\n",
       "      <td>2020-02-08 00:50:52</td>\n",
       "      <td>2020-02-08 00:51:33</td>\n",
       "      <td>24</td>\n",
       "      <td>30</td>\n",
       "      <td>30</td>\n",
       "      <td>30</td>\n",
       "      <td>30</td>\n",
       "    </tr>\n",
       "  </tbody>\n",
       "</table>\n",
       "</div>"
      ],
      "text/plain": [
       "               Submit               Start                 End  CPUs  \\\n",
       "0 2020-10-16 03:58:19 2020-10-16 03:58:20 2020-10-16 03:58:22    28   \n",
       "1 2020-06-08 20:42:58 2020-06-09 14:50:51 2020-06-09 14:50:51    20   \n",
       "2 2020-03-19 17:14:21 2020-03-19 17:14:32 2020-03-19 17:15:05     1   \n",
       "3 2020-07-23 14:31:16 2020-07-24 02:01:33 2020-07-24 06:03:26     1   \n",
       "4 2020-02-08 00:50:17 2020-02-08 00:50:52 2020-02-08 00:51:33    24   \n",
       "\n",
       "   cpus_utilized_pandas  cpus_utilized_swifter  cpus_utilized_numpy  \\\n",
       "0                     2                      2                    2   \n",
       "1                    90                     90                   90   \n",
       "2                    43                     43                   43   \n",
       "3                     0                      0                    0   \n",
       "4                    30                     30                   30   \n",
       "\n",
       "   cpus_utilized_multiproc  \n",
       "0                        2  \n",
       "1                       90  \n",
       "2                       43  \n",
       "3                        0  \n",
       "4                       30  "
      ]
     },
     "execution_count": 12,
     "metadata": {},
     "output_type": "execute_result"
    }
   ],
   "source": [
    "df.head()"
   ]
  }
 ],
 "metadata": {
  "kernelspec": {
   "display_name": "Python 3",
   "language": "python",
   "name": "python3"
  },
  "language_info": {
   "codemirror_mode": {
    "name": "ipython",
    "version": 3
   },
   "file_extension": ".py",
   "mimetype": "text/x-python",
   "name": "python",
   "nbconvert_exporter": "python",
   "pygments_lexer": "ipython3",
   "version": "3.8.8"
  }
 },
 "nbformat": 4,
 "nbformat_minor": 4
}
